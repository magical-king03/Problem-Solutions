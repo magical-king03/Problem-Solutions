{
 "cells": [
  {
   "cell_type": "code",
   "execution_count": null,
   "metadata": {},
   "outputs": [],
   "source": [
    "# 1. Football Training\n",
    "fans = list(map(int, input().split()))\n",
    "if fans[0] > fans[1]:\n",
    "    print(\"FREEKICK\")\n",
    "else:\n",
    "    print(\"PENALTY\")"
   ]
  },
  {
   "cell_type": "code",
   "execution_count": null,
   "metadata": {},
   "outputs": [],
   "source": [
    "# 2. Pep Bidding\n",
    "t = int(input())\n",
    "while t:\n",
    "    players = int(input())\n",
    "    att_a = list(map(int, input().split()))\n",
    "    def_a = list(map(int, input().split()))\n",
    "    att_p = list(map(int, input().split()))\n",
    "    def_p = list(map(int, input().split()))\n",
    "    if sum(att_a) == sum(att_p) or sum(def_a) == sum(def_p):\n",
    "        print(\"DRAW\")\n",
    "    elif sum(att_a) > sum(att_p) and sum(def_a) > sum(def_p):\n",
    "        print(\"A\")\n",
    "    elif sum(att_a) < sum(att_p) and sum(def_a) < sum(def_p):\n",
    "        print(\"P\")\n",
    "    else:\n",
    "        print(\"DRAW\")\n",
    "    t -= 1"
   ]
  },
  {
   "cell_type": "code",
   "execution_count": null,
   "metadata": {},
   "outputs": [],
   "source": [
    "# 3. Ballon d Or\n",
    "t = int(input())\n",
    "while t:\n",
    "    n = int(input())\n",
    "    arr = list(map(int, input().split()))\n",
    "    if arr.count(2) % 8 == 0:\n",
    "        print(\"YES\")\n",
    "    else:\n",
    "        print(\"NO\")\n",
    "    t -= 1"
   ]
  }
 ],
 "metadata": {
  "language_info": {
   "name": "python"
  }
 },
 "nbformat": 4,
 "nbformat_minor": 2
}
