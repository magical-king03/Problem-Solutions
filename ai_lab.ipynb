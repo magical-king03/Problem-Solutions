{
 "cells": [
  {
   "cell_type": "code",
   "execution_count": 11,
   "metadata": {},
   "outputs": [
    {
     "name": "stdout",
     "output_type": "stream",
     "text": [
      "[[1 2 2 4]\n",
      " [3 4 6 8]]\n"
     ]
    }
   ],
   "source": [
    "# Kronecker product\n",
    "import numpy as np\n",
    "A = eval(input(\"Enter matrix A: \"))\n",
    "B = eval(input(\"Enter matrix B: \"))\n",
    "print(np.kron(A, B))"
   ]
  },
  {
   "cell_type": "code",
   "execution_count": 9,
   "metadata": {},
   "outputs": [
    {
     "name": "stdout",
     "output_type": "stream",
     "text": [
      "Left rotation:  (3, 4, 5, 1, 2)\n",
      "Right rotation:  (4, 5, 1, 2, 3)\n"
     ]
    }
   ],
   "source": [
    "# Array rotation\n",
    "n = int(input(\"Enter the number of elements in the array: \"))\n",
    "arr = eval(input(\"Enter the elements in the array: \"))\n",
    "k = int(input(\"Enter the index for rotation: \"))\n",
    "arr1 = arr[k:] + arr[:k]\n",
    "print(\"Left rotation: \", arr1)\n",
    "arr2 = arr[-k:] + arr[:-k]\n",
    "print(\"Right rotation: \", arr2)"
   ]
  },
  {
   "cell_type": "code",
   "execution_count": 6,
   "metadata": {},
   "outputs": [
    {
     "name": "stdout",
     "output_type": "stream",
     "text": [
      "Possible combination:  [(100, 1), (20, 1), (5, 1)]\n",
      "Possible combination:  [(100, 1), (20, 1), (2, 2), (1, 1)]\n",
      "Possible combination:  [(100, 1), (20, 1), (1, 5)]\n",
      "Possible combination:  [(100, 1), (10, 2), (5, 1)]\n",
      "Possible combination:  [(100, 1), (10, 2), (2, 2), (1, 1)]\n",
      "Possible combination:  [(100, 1), (10, 2), (1, 5)]\n",
      "Possible combination:  [(100, 1), (5, 5)]\n",
      "Possible combination:  [(100, 1), (2, 12), (1, 1)]\n",
      "Possible combination:  [(100, 1), (1, 25)]\n",
      "Possible combination:  [(50, 2), (20, 1), (5, 1)]\n",
      "Possible combination:  [(50, 2), (20, 1), (2, 2), (1, 1)]\n",
      "Possible combination:  [(50, 2), (20, 1), (1, 5)]\n",
      "Possible combination:  [(50, 2), (10, 2), (5, 1)]\n",
      "Possible combination:  [(50, 2), (10, 2), (2, 2), (1, 1)]\n",
      "Possible combination:  [(50, 2), (10, 2), (1, 5)]\n",
      "Possible combination:  [(50, 2), (5, 5)]\n",
      "Possible combination:  [(50, 2), (2, 12), (1, 1)]\n",
      "Possible combination:  [(50, 2), (1, 25)]\n",
      "Possible combination:  [(20, 6), (5, 1)]\n",
      "Possible combination:  [(20, 6), (2, 2), (1, 1)]\n",
      "Possible combination:  [(20, 6), (1, 5)]\n",
      "Possible combination:  [(10, 12), (5, 1)]\n",
      "Possible combination:  [(10, 12), (2, 2), (1, 1)]\n",
      "Possible combination:  [(10, 12), (1, 5)]\n",
      "Possible combination:  [(5, 25)]\n",
      "Possible combination:  [(2, 62), (1, 1)]\n",
      "Possible combination:  [(1, 125)]\n"
     ]
    }
   ],
   "source": [
    "# Denomination\n",
    "def find_deno(amount, index, current_combination):\n",
    "    denomination = [2000, 500, 200, 100, 50, 20, 10, 5, 2, 1]\n",
    "    if amount == 0:\n",
    "        print(\"Possible combination: \", current_combination)\n",
    "        return\n",
    "        \n",
    "    for i in range(index, len(denomination)):\n",
    "        if denomination[i] <= amount:\n",
    "            new_combination = current_combination.copy()\n",
    "            new_combination.append((denomination[i], (amount // denomination[i])))\n",
    "            find_deno((amount % denomination[i]), i + 1, new_combination)\n",
    "\n",
    "amt = int(input(\"Enter the amount: \"))\n",
    "find_deno(amt, 0, [])"
   ]
  },
  {
   "cell_type": "code",
   "execution_count": 12,
   "metadata": {},
   "outputs": [
    {
     "name": "stdout",
     "output_type": "stream",
     "text": [
      "[[7, 10], [15, 22]]\n"
     ]
    }
   ],
   "source": [
    "# Matrix multiplication\n",
    "A = eval(input(\"Enter matrix A: \"))\n",
    "B = eval(input(\"Enter matrix B: \"))\n",
    "res = [[0] * len(B[0]) for _ in range(len(A))]\n",
    "if len(A) == len(B[0]):\n",
    "    for i in range(len(A)):\n",
    "        for j in range(len(B[i])):\n",
    "            for k in range(len(B)):\n",
    "                res[i][j] += A[i][k] * B[k][j]\n",
    "    print(res)\n",
    "else:\n",
    "    print(\"Can't multiply!!\") "
   ]
  },
  {
   "cell_type": "code",
   "execution_count": 17,
   "metadata": {},
   "outputs": [
    {
     "name": "stdout",
     "output_type": "stream",
     "text": [
      "[[1, 2, 3], [4, 5, 6], [7, 8, 9]]\n",
      "[[1 4 7]\n",
      " [2 5 8]\n",
      " [3 6 9]]\n",
      "[1, 4, 7]\n",
      "[2, 5, 8]\n",
      "[3, 6, 9]\n"
     ]
    }
   ],
   "source": [
    "# Matrix swapping\n",
    "A = eval(input(\"Enter the matrix: \"))\n",
    "print(A)\n",
    "print(np.transpose(A))\n",
    "for i in range(len(A)):\n",
    "    for j in range(i + 1, len(A)):\n",
    "        A[i][j], A[j][i] = A[j][i], A[i][j]\n",
    "for r in A:\n",
    "    print(r)"
   ]
  },
  {
   "cell_type": "code",
   "execution_count": 29,
   "metadata": {},
   "outputs": [
    {
     "name": "stdout",
     "output_type": "stream",
     "text": [
      "It is magic square\n"
     ]
    }
   ],
   "source": [
    "# Magic Square\n",
    "A = eval(input(\"Enter the matrix: \"))\n",
    "res = (len(A) * (len(A) ** 2 + 1)) // 2\n",
    "count = 0\n",
    "for i in range(len(A)):\n",
    "    r, r1, r2, r3, k = 0, 0, 0, 0, len(A) - 1\n",
    "    for j in range(len(A[0])):\n",
    "        r += A[i][j]\n",
    "        r1 += A[j][i]\n",
    "        r2 += A[j][j]\n",
    "        r3 += A[i][k]\n",
    "        k -= 1\n",
    "    if r == res and r1 == res and r2 == res and r3 == res:\n",
    "        count += 1\n",
    "if count == len(A):\n",
    "    print(\"It is magic square\")\n",
    "else:\n",
    "    print(\"It is not a magic square\")\n"
   ]
  },
  {
   "cell_type": "code",
   "execution_count": 30,
   "metadata": {},
   "outputs": [
    {
     "name": "stdout",
     "output_type": "stream",
     "text": [
      "[1 1 0 0]\n",
      "1\n"
     ]
    }
   ],
   "source": [
    "# Mice and hole\n",
    "m = eval(input(\"Enter the array of mice: \"))\n",
    "h = eval(input(\"Enter the array of holes: \"))\n",
    "m.sort()\n",
    "h.sort()\n",
    "res = np.absolute(np.subtract(m, h))\n",
    "print(res)\n",
    "print(max(res))"
   ]
  },
  {
   "cell_type": "code",
   "execution_count": 12,
   "metadata": {},
   "outputs": [
    {
     "name": "stdout",
     "output_type": "stream",
     "text": [
      "BFS Traversal\n",
      "1. BFS Full Traversal\n",
      "2. BFS Traversal with goal node\n",
      "2. Exit\n",
      "A C B F G D E A C B F G Exiting...Bye!!!\n"
     ]
    }
   ],
   "source": [
    "# BFS menu driven\n",
    "def BFS(graph, v):\n",
    "    fringe = []\n",
    "    visited = []\n",
    "    fringe.append(v)\n",
    "    visited.append(v)\n",
    "    while(len(fringe) != 0):\n",
    "        node = fringe.pop(0)\n",
    "        print(node, end=\" \")\n",
    "        for adj_node in graph[node]:\n",
    "            if adj_node not in visited:\n",
    "                fringe.append(adj_node)\n",
    "                visited.append(adj_node)\n",
    "\n",
    "def BFS_goal(graph, start, end):\n",
    "    fringe = []\n",
    "    visited = []\n",
    "    fringe.append(start)\n",
    "    visited.append(start)\n",
    "    while(len(fringe) != 0):\n",
    "        node = fringe.pop(0)\n",
    "        if node != end:\n",
    "            print(node, end=\" \")\n",
    "            for adj_node in graph[node]:\n",
    "                if adj_node not in visited:\n",
    "                    fringe.append(adj_node)\n",
    "                    visited.append(adj_node)\n",
    "        else:\n",
    "            print(node, end=\" \")\n",
    "            break\n",
    "\n",
    "graph = eval(input(\"Enter the graph: \"))\n",
    "# {'A':['C','B'], 'B':['D','E'], 'C':['F','G'], 'D':[], 'E':[],'F':[],'G':[]}\n",
    "\n",
    "print(\"BFS Traversal\")\n",
    "print(\"1. BFS Full Traversal\")\n",
    "print(\"2. BFS Traversal with goal node\")\n",
    "print(\"2. Exit\")\n",
    "while True:\n",
    "    choice = int(input(\"Enter the choice: \"))\n",
    "    if choice == 1:\n",
    "        start = (input(\"Enter the start node: \"))\n",
    "        BFS(graph, start)\n",
    "    elif choice == 2:\n",
    "        start = (input(\"Enter the start node: \"))\n",
    "        goal = (input(\"Enter the goal node: \"))\n",
    "        BFS_goal(graph, start, goal)\n",
    "    elif choice == 3:\n",
    "        print(\"Exiting...Bye!!!\")\n",
    "        break\n",
    "    else:\n",
    "        print(\"Invalid input!!\")"
   ]
  },
  {
   "cell_type": "code",
   "execution_count": 41,
   "metadata": {},
   "outputs": [
    {
     "name": "stdout",
     "output_type": "stream",
     "text": [
      "DFS Traversal\n",
      "1. DFS Full Traversal\n",
      "2. DFS Traversal with goal node\n",
      "2. Exit\n",
      "1 0 2 5 0 1 3 4 5 2 Exiting...Bye!!!\n"
     ]
    }
   ],
   "source": [
    "# DFS menu driven\n",
    "def DFSUtil(visited, v):\n",
    "    visited.add(v)\n",
    "    print(v, end = \" \")\n",
    "    for neigh in graph[v]:\n",
    "        if neigh not in visited:\n",
    "            DFSUtil(visited, neigh)\n",
    "\n",
    "def DFS(graph, visited, v, goal):\n",
    "    if v not in visited:\n",
    "        print(v, end = \" \")\n",
    "        visited.add(v)\n",
    "        if goal and v == goal:\n",
    "            return True\n",
    "        for neigh in graph[v]:\n",
    "            if DFS(graph, visited, neigh, goal):\n",
    "                return True\n",
    "\n",
    "graph = eval(input(\"Enter the graph: \"))\n",
    "# {0: (1, 2), 1: {0, 3, 4}, 2: {0, 5}, 3: {1}, 4: {1, 5}, 5: {2, 4}}\n",
    "print(\"DFS Traversal\")\n",
    "print(\"1. DFS Full Traversal\")\n",
    "print(\"2. DFS Traversal with goal node\")\n",
    "print(\"2. Exit\")\n",
    "while True:\n",
    "    choice = int(input(\"Enter the choice: \"))\n",
    "    if choice == 1:\n",
    "        start = int(input(\"Enter the start node: \"))\n",
    "        visited = set()\n",
    "        DFSUtil(visited, start)\n",
    "    elif choice == 2:\n",
    "        start = int(input(\"Enter the start node: \"))\n",
    "        goal = int(input(\"Enter the goal node: \"))\n",
    "        visited = set()\n",
    "        DFS(graph, visited, start, goal)\n",
    "    elif choice == 3:\n",
    "        print(\"Exiting...Bye!!!\")\n",
    "        break\n",
    "    else:\n",
    "        print(\"Invalid input!!\")"
   ]
  },
  {
   "cell_type": "code",
   "execution_count": 51,
   "metadata": {},
   "outputs": [
    {
     "name": "stdout",
     "output_type": "stream",
     "text": [
      "[['a', 'b', 'd'], ['a', 'c', 'd'], ['a', 'c', 'e', 'd']]\n"
     ]
    }
   ],
   "source": [
    "# All path\n",
    "def all_path(graph, start, end, path = []):\n",
    "    path = path + [start]\n",
    "    if start == end:\n",
    "        return [path]\n",
    "    paths = []\n",
    "    for node in graph[start]:\n",
    "        if node not in path:\n",
    "            new_path = all_path(graph, node, end, path)\n",
    "            for new in new_path:\n",
    "                paths.append(new)\n",
    "    return paths\n",
    "\n",
    "graph = eval(input(\"Enter the graph: \"))\n",
    "# {'a': ['b','c'], 'b': ['a', 'd'], 'c': ['a', 'd', 'e'], 'd': ['b', 'c', 'e'], 'e': ['c', 'd']}\n",
    "start = input(\"Enter the start node: \")\n",
    "end = input(\"Enter the goal node: \")\n",
    "paths = all_path(graph, start, end)\n",
    "print(paths)"
   ]
  },
  {
   "cell_type": "code",
   "execution_count": 55,
   "metadata": {},
   "outputs": [
    {
     "name": "stdout",
     "output_type": "stream",
     "text": [
      "3\n"
     ]
    }
   ],
   "source": [
    "# Police Thief Problem\n",
    "def police_thief(arr, k):\n",
    "    i = 0\n",
    "    l = 0\n",
    "    r = 0\n",
    "    res = 0\n",
    "    pol = []\n",
    "    thi = []\n",
    "    while i < len(arr):\n",
    "        if arr[i] == 'P':\n",
    "            pol.append(i)\n",
    "        elif arr[i] == 'T':\n",
    "            thi.append(i)\n",
    "        i += 1\n",
    "    while l < len(thi) and r < len(pol):\n",
    "        if abs(thi[l] - pol[r]) <= k:\n",
    "            res += 1\n",
    "            r += 1\n",
    "            l += 1\n",
    "        elif thi[l] < pol[r]:\n",
    "            l += 1\n",
    "        else:\n",
    "            r += 1\n",
    "    return res\n",
    "\n",
    "arr = eval(input(\"Enter the array: \"))\n",
    "k = int(input(\"Enter the distance: \"))\n",
    "print(police_thief(arr, k))"
   ]
  },
  {
   "cell_type": "code",
   "execution_count": 2,
   "metadata": {},
   "outputs": [
    {
     "name": "stdout",
     "output_type": "stream",
     "text": [
      "24\n",
      "2 -> 0\n",
      "1 -> 1\n",
      "1 -> 2\n"
     ]
    }
   ],
   "source": [
    "# Gold mine\n",
    "def collectGold(gold, x, y, n, m):\n",
    "    if not (0 <= x < n and 0 <= y < m):\n",
    "        return 0, []\n",
    "    moves = [[x-1, y+1], [x, y+1], [x+1, y+1]]\n",
    "    best_move = max(moves, key = lambda pos: collectGold(gold, *pos, n, m)[0])\n",
    "    return gold[x][y] + collectGold(gold, *best_move, n, m)[0], [(x, y)] + collectGold(gold, *best_move, n, m)[1]\n",
    "\n",
    "def getMaxGold(gold, n, m):\n",
    "    maxGold, maxPath = 0, []\n",
    "    for i in range(n):\n",
    "        goldCollected, path = collectGold(gold, i, 0, n, m)\n",
    "        if goldCollected > maxGold:\n",
    "            maxGold, maxPath = goldCollected, path\n",
    "        elif goldCollected == maxGold:\n",
    "            maxPath.append(path)\n",
    "    return maxGold, maxPath\n",
    "\n",
    "gold = eval(input(\"Enter the matrix: \"))\n",
    "# [[1, 3, 3],\n",
    "#         [2, 7, 4],\n",
    "#         [13, 6, 1],\n",
    "#         [12,0,5]]\n",
    "maxGold, maxPath = getMaxGold(gold, len(gold), len(gold[0]))\n",
    "print(maxGold)\n",
    "for path in maxPath:\n",
    "    # print(path)\n",
    "    print(\" -> \".join(map(str, path)))"
   ]
  },
  {
   "cell_type": "code",
   "execution_count": 4,
   "metadata": {},
   "outputs": [
    {
     "name": "stdout",
     "output_type": "stream",
     "text": [
      "{'x': 8, 'y': 49}\n",
      "{'x': 8, 'y': 48}\n",
      "{'x': 8, 'y': 47}\n",
      "{'x': 8, 'y': 46}\n",
      "{'x': 8, 'y': 45}\n",
      "{'x': 8, 'y': 44}\n",
      "{'x': 8, 'y': 43}\n",
      "{'x': 8, 'y': 42}\n"
     ]
    }
   ],
   "source": [
    "# CSP\n",
    "import constraint\n",
    "problem = constraint.Problem()\n",
    "problem.addVariable('x', [8])\n",
    "problem.addVariable('y', range(50))\n",
    "def cons(x, y):\n",
    "    return x + y >= 50\n",
    "problem.addConstraint(cons, ['x', 'y'])\n",
    "solutions = problem.getSolutions()\n",
    "for solution in solutions:\n",
    "    print(solution)\n"
   ]
  },
  {
   "cell_type": "code",
   "execution_count": 5,
   "metadata": {},
   "outputs": [
    {
     "name": "stdout",
     "output_type": "stream",
     "text": [
      "['r', 'u', 'o', 't', 'w', 'f']\n",
      "765+765=1530 mapping({'r': 0, 'u': 3, 'o': 5, 't': 7, 'w': 6, 'f': 1})\n",
      "836+836=1672 mapping({'r': 2, 'u': 7, 'o': 6, 't': 8, 'w': 3, 'f': 1})\n",
      "846+846=1692 mapping({'r': 2, 'u': 9, 'o': 6, 't': 8, 'w': 4, 'f': 1})\n",
      "867+867=1734 mapping({'r': 4, 'u': 3, 'o': 7, 't': 8, 'w': 6, 'f': 1})\n",
      "928+928=1856 mapping({'r': 6, 'u': 5, 'o': 8, 't': 9, 'w': 2, 'f': 1})\n",
      "938+938=1876 mapping({'r': 6, 'u': 7, 'o': 8, 't': 9, 'w': 3, 'f': 1})\n",
      "734+734=1468 mapping({'r': 8, 'u': 6, 'o': 4, 't': 7, 'w': 3, 'f': 1})\n"
     ]
    }
   ],
   "source": [
    "# Crypt Arthimetic\n",
    "import itertools\n",
    "def get_value(word, sub):\n",
    "    s, factor = 0, 1\n",
    "    for i in reversed(word):\n",
    "        s += factor * sub[i]\n",
    "        factor *= 10\n",
    "    return s\n",
    "\n",
    "\n",
    "def solve(eq):\n",
    "    left, right = eq.lower().replace(\" \", \"\").split('=')\n",
    "    left = left.split(\"+\")\n",
    "    letters = set(right)\n",
    "    \n",
    "    for word in left:\n",
    "        for letter in word:\n",
    "            letters.add(letter)\n",
    "    letters = list(letters)\n",
    "    print(letters)\n",
    "    digits = range(10)\n",
    "    for perm in itertools.permutations(digits, len(letters)):\n",
    "        sol = dict(zip(letters, perm))\n",
    "        if sum(get_value(word, sol) for word in left) == get_value(right, sol):\n",
    "            if len(right) == len(str(get_value(right, sol))):\n",
    "                print(\"+\".join(str(get_value(word, sol)) for word in left) + \"={} mapping({})\".format(str(get_value(right, sol)) , sol))\n",
    "\n",
    "ques = input(\"Enter the statement: \")\n",
    "solve(ques)"
   ]
  },
  {
   "cell_type": "code",
   "execution_count": 15,
   "metadata": {},
   "outputs": [
    {
     "name": "stdout",
     "output_type": "stream",
     "text": [
      "[1, 3, 0, 2]\n",
      "[2, 0, 3, 1]\n"
     ]
    }
   ],
   "source": [
    "# N Queens\n",
    "def isSafe(board, row, col):\n",
    "    for i in range(col):\n",
    "        if board[i] == row or abs(board[i] - row) == col - i:\n",
    "            return False\n",
    "    return True\n",
    "def placeQueen(board, col, n, solutions):\n",
    "    if col == n:\n",
    "        solutions.append(board[:])\n",
    "        return\n",
    "    for row in range(n):\n",
    "        if isSafe(board, row, col):\n",
    "            board[col] = row\n",
    "            placeQueen(board, col+1, n, solutions)\n",
    "def NQueen(n):\n",
    "    solutions = []\n",
    "    board = [-1] * n\n",
    "    placeQueen(board, 0, n, solutions)\n",
    "    return solutions\n",
    "n = int(input(\"Enter the number of queens\"))\n",
    "solutions = NQueen(n)\n",
    "for solution in solutions:\n",
    "    print(solution)"
   ]
  },
  {
   "cell_type": "code",
   "execution_count": 14,
   "metadata": {},
   "outputs": [],
   "source": [
    "# M-Coloring\n",
    "def isSafe(graph, color, V, v, c):\n",
    "    return not any(graph[v][i] == 1 and color[i] == c for i in range(V))\n",
    "def graphColorUtil(graph, color, m, V, v):\n",
    "    if V == v:\n",
    "        return True\n",
    "    for c in range(1, m+1):\n",
    "        if isSafe(graph, color, V, v, c):\n",
    "            color[v] = c\n",
    "            if graphColorUtil(graph, color, m, V, v+1):\n",
    "                return True\n",
    "            color[v] = 0\n",
    "    return False\n",
    "def graphColor(graph, m):\n",
    "    V = len(graph)\n",
    "    color = [0] * len(graph)\n",
    "    if not graphColorUtil(graph, color, m, V, 0):\n",
    "        return False\n",
    "    print(\"Solution found: \")\n",
    "    print(color)\n",
    "    return True\n",
    "vertices = int(input(\"Enter the vertices: \"))\n",
    "graph = eval(input(\"Enter the graph: \"))\n",
    "# [[0,0,1,1],[1,0,1,0],[1,0,0,0],[1,0,1,0]]\n",
    "\n",
    "m = int(input(\"Enter the colors: \"))\n",
    "graphColor(graph, m)"
   ]
  },
  {
   "cell_type": "code",
   "execution_count": 23,
   "metadata": {},
   "outputs": [
    {
     "name": "stdout",
     "output_type": "stream",
     "text": [
      "33\n"
     ]
    }
   ],
   "source": [
    "# Job Sequencing\n",
    "def jobs_sequence(jobs):\n",
    "    jobs.sort(key=lambda x: x[1])\n",
    "    dp = [0] * len(jobs)\n",
    "    for i in range(len(jobs)):\n",
    "        dp[i] = max(jobs[i][2] + max((dp[j] for j in range(i-1, -1, -1) if jobs[j][1] <= jobs[i][0]), default=0), dp[i-1])\n",
    "    print(dp[-1])\n",
    "n = int(input(\"Enter the number of jobs: \"))\n",
    "jobs = []\n",
    "for i in range(n):\n",
    "    s, f, p = map(int, input(\"Enter the start time, finish time, profit: \").split())\n",
    "    if s == -1:\n",
    "        break\n",
    "    jobs.append((s, f, p))\n",
    "jobs_sequence(jobs)"
   ]
  },
  {
   "cell_type": "code",
   "execution_count": 25,
   "metadata": {},
   "outputs": [
    {
     "name": "stdout",
     "output_type": "stream",
     "text": [
      "7\n"
     ]
    }
   ],
   "source": [
    "# Minimax\n",
    "import math\n",
    "def minimax(current_depth, node_index, turn, scores, tree_depth, b_factor):\n",
    "    if current_depth == tree_depth:\n",
    "        return scores[node_index]\n",
    "    if turn:\n",
    "        largest = None\n",
    "        for i in range(b_factor):\n",
    "            index = node_index * b_factor + i\n",
    "            if index >= len(scores):\n",
    "                continue\n",
    "            cur = minimax(current_depth + 1, index, False, scores, tree_depth, b_factor)\n",
    "            if largest is None or cur > largest:\n",
    "                largest = cur\n",
    "        return largest\n",
    "    else:\n",
    "        smallest = None\n",
    "        for i in range(b_factor):\n",
    "            index = node_index * b_factor + i\n",
    "            if index >= len(scores):\n",
    "                continue\n",
    "            cur = minimax(current_depth + 1, index, True, scores, tree_depth, b_factor)\n",
    "            if smallest is None or cur < smallest:\n",
    "                smallest = cur\n",
    "        return smallest\n",
    "scores = eval(input(\"Enter the array values: \"))\n",
    "# [4, 6, 0, 9, 15, 14, 5, 16, 1, 3, 2, 7, 13, 11, 12, 8]\n",
    "turn = int(input(\"Maximize or minimize(1 or 0): \"))\n",
    "b_factor = int(input(\"Enter the branching factor: \"))\n",
    "tree_depth = math.ceil(math.log(len(scores), b_factor))\n",
    "op = minimax(0, 0, turn, scores, tree_depth, b_factor)\n",
    "print(op)"
   ]
  },
  {
   "cell_type": "code",
   "execution_count": 32,
   "metadata": {},
   "outputs": [
    {
     "name": "stdout",
     "output_type": "stream",
     "text": [
      "-4\n",
      "16\n",
      "7\n"
     ]
    }
   ],
   "source": [
    "# Aplha beta pruning\n",
    "import math\n",
    "MAX, MIN = 10000, -10000\n",
    "pruned_nodes = []\n",
    "def minimax(current_depth, node_index, turn, scores, tree_depth, b_factor, alpha, beta):\n",
    "    if current_depth == tree_depth:\n",
    "        return scores[node_index]\n",
    "    if turn:\n",
    "        largest = None\n",
    "        for i in range(b_factor):\n",
    "            index = node_index * b_factor + i\n",
    "            if index >= len(scores):\n",
    "                continue\n",
    "            cur = minimax(current_depth + 1, index, False, scores, tree_depth, b_factor, alpha, beta)\n",
    "            if largest is None or cur > largest:\n",
    "                largest = cur\n",
    "            alpha = max(alpha, largest)\n",
    "            pruned_nodes.append(cur)\n",
    "            if alpha >= beta:\n",
    "                break\n",
    "        return largest\n",
    "    else:\n",
    "        smallest = None\n",
    "        for i in range(b_factor):\n",
    "            index = node_index * b_factor + i\n",
    "            if index >= len(scores):\n",
    "                continue\n",
    "            cur = minimax(current_depth + 1, index, True, scores, tree_depth, b_factor, alpha, beta)\n",
    "            if smallest is None or cur < smallest:\n",
    "                smallest = cur\n",
    "            beta = min(beta, smallest)\n",
    "            pruned_nodes.append(cur)\n",
    "            if alpha >= beta:\n",
    "                break\n",
    "        return smallest\n",
    "scores = eval(input(\"Enter the array values: \"))\n",
    "# [4, 6, 0, 9, 15, 14, 5, 16, 1, 3, 2, 7, 13, 11, 12, 8]\n",
    "turn = int(input(\"Maximize or minimize(1 or 0): \"))\n",
    "b_factor = int(input(\"Enter the branching factor: \"))\n",
    "tree_depth = math.ceil(math.log(len(scores), b_factor))\n",
    "op = minimax(0, 0, turn, scores, tree_depth, b_factor, MIN, MAX)\n",
    "print(op)\n",
    "for i in scores:\n",
    "    if i not in pruned_nodes:\n",
    "        print(i)"
   ]
  },
  {
   "cell_type": "code",
   "execution_count": 1,
   "metadata": {},
   "outputs": [
    {
     "name": "stdout",
     "output_type": "stream",
     "text": [
      "[1, 1, 2]\n",
      "[1, 2, 3]\n",
      "[1, 3, 3]\n",
      "[2, 2, 3]\n",
      "[2, 3, 3]\n",
      "[1, 1, 3]\n",
      "[1, 2, 2]\n",
      "7\n"
     ]
    }
   ],
   "source": [
    "# Tile stacking\n",
    "import itertools\n",
    "sol = set()\n",
    "height = int(input(\"Enter the maximum height: \"))\n",
    "width = int(input(\"Enter the maximum possible width: \"))\n",
    "k = int(input(\"Enter the number of repitions: \"))\n",
    "a = list(range(1, width + 1))\n",
    "for i in range(k-1):\n",
    "    a.extend(list(range(1, width + 1)))\n",
    "for i in itertools.permutations(a, height):\n",
    "    i = list(i)\n",
    "    i.sort()\n",
    "    sol.add(str(i))\n",
    "for s in sol:\n",
    "    print(s)\n",
    "print(len(sol))"
   ]
  },
  {
   "cell_type": "code",
   "execution_count": 44,
   "metadata": {},
   "outputs": [
    {
     "name": "stdout",
     "output_type": "stream",
     "text": [
      "Path =  [2, 8]\n",
      "Minimum solution:  22\n",
      "Path =  [3, 1]\n",
      "Minimum solution:  66\n",
      "Path =  [5, 9, 7, 4, 6]\n",
      "Minimum solution:  10\n"
     ]
    }
   ],
   "source": [
    "# Water connection\n",
    "def dfs(adj_mat, stack):\n",
    "    mini = 1000\n",
    "    s = []\n",
    "    while len(stack):\n",
    "        cur = stack.pop()\n",
    "        s.append(cur)\n",
    "        if cur not in adj_mat:\n",
    "            continue\n",
    "        for node in adj_mat[cur]:\n",
    "            stack.append(node[0])\n",
    "            mini = min(mini, node[1])\n",
    "    print(\"Path = \", str(s))\n",
    "    print(\"Minimum solution: \", mini)\n",
    "def find_ways(arr, n):\n",
    "    adj_mat = {}\n",
    "    list_for_dfs = list(range(1, n+1))\n",
    "    for i in arr:\n",
    "        list_for_dfs.remove(i[1])\n",
    "        if i[0] not in adj_mat:\n",
    "            adj_mat[i[0]] = []\n",
    "        adj_mat[i[0]].append((i[1], i[2]))\n",
    "    for i in list_for_dfs:\n",
    "        dfs(adj_mat, [i])\n",
    "houses = int(input(\"Enter the number of houses: \"))\n",
    "arr = eval(input(\"Enter the matrix: \"))\n",
    "# [[7, 4, 98], [5, 9, 72], [4, 6, 10 ], [2, 8, 22 ], [9, 7, 17], [3, 1, 66]]\n",
    "find_ways(arr, houses)"
   ]
  },
  {
   "cell_type": "code",
   "execution_count": 11,
   "metadata": {},
   "outputs": [
    {
     "name": "stdout",
     "output_type": "stream",
     "text": [
      "6\n"
     ]
    }
   ],
   "source": [
    "# Largest region in boolean matrix\n",
    "def isSafe(graph, row, col, visited):\n",
    "    global ROW, COL\n",
    "    return (0 <= row) and (row < ROW) and (0 <= col) and (col < COL) and (graph[row][col] and not visited[row][col])\n",
    "def DFS(graph, row, col, visited, count):\n",
    "    rowNbr = [-1, -1, -1, 0, 0, 1, 1, 1]\n",
    "    colNbr = [-1, 0, 1, -1, 1, -1, 0, 1]\n",
    "    visited[row][col] = 1\n",
    "    for k in range(8):\n",
    "        if isSafe(graph, row + rowNbr[k], col + colNbr[k], visited):\n",
    "            count[0] += 1\n",
    "            DFS(graph, row + rowNbr[k], col + colNbr[k], visited, count)\n",
    "def largest_region(graph):\n",
    "    res = -999999\n",
    "    visited = [[0] * COL for _ in range(ROW)]\n",
    "    for i in range(ROW):\n",
    "        for j in range(COL):\n",
    "            if graph[i][j] and not visited[i][j]:\n",
    "                count = [1]\n",
    "                DFS(graph, i, j, visited, count)\n",
    "                res = max(res, count[0])\n",
    "    return res\n",
    "\n",
    "global ROW, COL\n",
    "ROW = int(input(\"Enter the number of rows: \"))\n",
    "COL = int(input(\"Enter the number of cols: \"))\n",
    "graph = eval(input(\"Enter the matrix: \"))\n",
    "res = largest_region(graph)\n",
    "# [[1,0,0],[0,1,0],[1,1,1],[0,0,1],[0,0,0],[0,0,1]]\n",
    "print(res)"
   ]
  },
  {
   "cell_type": "code",
   "execution_count": 4,
   "metadata": {},
   "outputs": [
    {
     "name": "stdout",
     "output_type": "stream",
     "text": [
      "['a:0', 'c:3', 'd:10', 'e:12', 'z:17']\n"
     ]
    }
   ],
   "source": [
    "# A - star\n",
    "def get(graph, a, b=None):\n",
    "    links = graph.setdefault(a, {})\n",
    "    if b is None:\n",
    "        return links\n",
    "    else:\n",
    "        return get(links, b)\n",
    "    \n",
    "class Node:\n",
    "    def __init__(self, name, parent):\n",
    "        self.name = name\n",
    "        self.parent = parent\n",
    "        self.g = 0\n",
    "        self.h = 0\n",
    "        self.f = 0\n",
    "    \n",
    "    def __eq__(self, other):\n",
    "        return self.name == other.name\n",
    "    \n",
    "    def __lt__(self, other):\n",
    "        return self.f < other.f\n",
    "    \n",
    "def add_to_open(ope, neighbour):\n",
    "    for node in ope:\n",
    "        if neighbour == node and neighbour.f > node.f:\n",
    "            return False\n",
    "    return True\n",
    "\n",
    "def astar(graph, heu, start, end):\n",
    "    ope = []\n",
    "    closed = []\n",
    "    start_node = Node(start, None)\n",
    "    goal_node = Node(end, None)\n",
    "    ope.append(start_node)\n",
    "\n",
    "    while len(ope) > 0:\n",
    "        ope.sort()\n",
    "        cur = ope.pop(0)\n",
    "        closed.append(cur)\n",
    "        \n",
    "        if cur == goal_node:\n",
    "            path = []\n",
    "            while cur != start_node:\n",
    "                path.append(cur.name + \":\" + str(cur.g))\n",
    "                cur = cur.parent\n",
    "            path.append(start_node.name + \":\" + str(start_node.g))\n",
    "            return path[::-1]\n",
    "        neighbours = graph.get(cur.name)\n",
    "        for key, value in neighbours.items():\n",
    "            neighbour = Node(key, cur)\n",
    "            if neighbour in closed:\n",
    "                continue\n",
    "            neighbour.g = cur.g + get(graph, cur.name, neighbour.name)\n",
    "            neighbour.h = heu.get(neighbour.name)\n",
    "            neighbour.f = neighbour.g + neighbour.h\n",
    "            if add_to_open(ope, neighbour):\n",
    "                ope.append(neighbour)\n",
    "    return None\n",
    "\n",
    "graph = eval(input(\"Enter the graph: \"))\n",
    "# {'a': {'b': 4, 'c': 3}, 'b': {'f': 5, 'e': 12}, 'c': {'e': 10, 'd': 7}, 'd': {'e': 2}, 'e': {'z': 5}, 'f': {'z': 16}, 'z': {}}\n",
    "heu = eval(input(\"Enter the shortest distance: \"))\n",
    "# {'a': 14, 'b': 12, 'c': 11, 'd': 6, 'e': 4, 'f': 11, 'z': 0}\n",
    "start = (input(\"Enter the start node: \"))\n",
    "end = (input(\"Enter the goal node: \"))\n",
    "path = astar(graph, heu, start, end)  \n",
    "print(path)   \n"
   ]
  },
  {
   "cell_type": "code",
   "execution_count": 9,
   "metadata": {},
   "outputs": [
    {
     "name": "stdout",
     "output_type": "stream",
     "text": [
      "(0 , 0)\n",
      "(0 , 3)\n",
      "(4 , 0)\n",
      "(4 , 3)\n",
      "(3 , 0)\n",
      "(1 , 3)\n",
      "(3 , 3)\n",
      "(4 , 2)\n",
      "(0 , 2)\n"
     ]
    }
   ],
   "source": [
    "# Water Jug\n",
    "from collections import deque\n",
    "def BFS(a, b, target):\n",
    "    m = {}\n",
    "    isSol = False\n",
    "    path = []\n",
    "    q = deque()\n",
    "    q.append((0,0))\n",
    "    while len(q) > 0:\n",
    "        u = q.popleft()\n",
    "        if (u[0], u[1]) in m:\n",
    "            continue\n",
    "        if u[0] > a or u[1] > b or u[0] < 0 or u[1] < 0:\n",
    "            continue\n",
    "        path.append([u[0], u[1]])\n",
    "        m[(u[0], u[1])] = 1\n",
    "        if u[0] == target or u[1] == target:\n",
    "            isSol = True\n",
    "            if u[0] == target:\n",
    "                if u[1] != 0:\n",
    "                    path.append([u[0], 0])\n",
    "            else:\n",
    "                if u[0] != 0:\n",
    "                    path.append([0, u[1]])\n",
    "            for i in range(len(path)):\n",
    "                print(\"(\" + str(path[i][0]) + \" , \" + str(path[i][1]) + \")\")\n",
    "            break\n",
    "        q.append([u[0], b])\n",
    "        q.append([a, u[1]])\n",
    "        for az in range(max(a, b) + 1):\n",
    "            c = u[0] + az\n",
    "            d = u[1] - az\n",
    "            if c == a or d == 0:\n",
    "                q.append([c, d])\n",
    "            c = u[0] - az\n",
    "            d = u[1] + az\n",
    "            if c == 0 or d == b:\n",
    "                q.append([c, d])\n",
    "        q.append([a, 0])\n",
    "        q.append([0, b])\n",
    "    if not isSol:\n",
    "        print(\"No solution\")\n",
    "    \n",
    "BFS(4, 3, 2)\n",
    "        \n"
   ]
  }
 ],
 "metadata": {
  "kernelspec": {
   "display_name": "Python 3",
   "language": "python",
   "name": "python3"
  },
  "language_info": {
   "codemirror_mode": {
    "name": "ipython",
    "version": 3
   },
   "file_extension": ".py",
   "mimetype": "text/x-python",
   "name": "python",
   "nbconvert_exporter": "python",
   "pygments_lexer": "ipython3",
   "version": "3.12.3"
  }
 },
 "nbformat": 4,
 "nbformat_minor": 2
}
