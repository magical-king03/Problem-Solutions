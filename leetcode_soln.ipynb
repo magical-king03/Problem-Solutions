{
 "cells": [
  {
   "cell_type": "code",
   "execution_count": null,
   "metadata": {},
   "outputs": [],
   "source": [
    "# Find the Difference of Two Arrays \n",
    "class Solution(object):\n",
    "    def findDifference(self, nums1, nums2):\n",
    "        \"\"\"\n",
    "        :type nums1: List[int]\n",
    "        :type nums2: List[int]\n",
    "        :rtype: List[List[int]]\n",
    "        \"\"\"\n",
    "        res = []\n",
    "        res.append(list(set(nums1).difference(set(nums2))))\n",
    "        res.append(list(set(nums2).difference(set(nums1))))\n",
    "        return res\n",
    "        "
   ]
  },
  {
   "cell_type": "code",
   "execution_count": null,
   "metadata": {},
   "outputs": [],
   "source": [
    "# Merge Strings Alternately\n",
    "class Solution(object):\n",
    "    def mergeAlternately(self, word1, word2):\n",
    "        \"\"\"\n",
    "        :type word1: str\n",
    "        :type word2: str\n",
    "        :rtype: str\n",
    "\n",
    "        \"\"\"\n",
    "        res = \"\"\n",
    "        j, k = 0, 0\n",
    "        for i in range((max(len(word1), len(word2)))*2):\n",
    "            if i % 2 == 0:\n",
    "                if j < len(word1):\n",
    "                    res = res + word1[j]\n",
    "                    j += 1 \n",
    "                # else: \n",
    "                #     res = res + \" \"\n",
    "                #     j += 1\n",
    "            else:\n",
    "                # print(word2[k])\n",
    "                if k < len(word2):\n",
    "                    res = res + word2[k]\n",
    "                    k += 1\n",
    "                # else:\n",
    "                #     res = res + \" \"\n",
    "                #     k += 1\n",
    "        return res"
   ]
  },
  {
   "cell_type": "code",
   "execution_count": null,
   "metadata": {},
   "outputs": [],
   "source": [
    "# Counting Bits\n",
    "class Solution(object):\n",
    "    def countBits(self, n):\n",
    "        \"\"\"\n",
    "        :type n: int\n",
    "        :rtype: List[int]\n",
    "        \"\"\"\n",
    "        res = []\n",
    "        for i in range(n + 1):\n",
    "            res.append((str(bin(i))[2:]).count('1'))\n",
    "        return res\n",
    "\n",
    "        # x = [0]*(n+1)\n",
    "\n",
    "        # for i in range(1,n+1):\n",
    "        #     if i%2 == 1:\n",
    "        #         x[i] = x[i-1]+1\n",
    "        #     else:\n",
    "        #         x[i] = x[i//2]\n",
    "        # return x\n",
    "        "
   ]
  },
  {
   "cell_type": "code",
   "execution_count": null,
   "metadata": {},
   "outputs": [],
   "source": [
    "# Removing Stars From a String\n",
    "class Solution(object):\n",
    "    def removeStars(self, s):\n",
    "        \"\"\"\n",
    "        :type s: str\n",
    "        :rtype: str\n",
    "        \"\"\"\n",
    "        stack = []\n",
    "        for i in s: \n",
    "            if i != '*':\n",
    "                stack.append(i)\n",
    "            else:\n",
    "                if len(stack) > 0:\n",
    "                    stack.pop()\n",
    "        return ''.join(stack)"
   ]
  },
  {
   "cell_type": "code",
   "execution_count": null,
   "metadata": {},
   "outputs": [],
   "source": [
    "# Reverse Words in a String\n",
    "class Solution(object):\n",
    "    def reverseWords(self, s):\n",
    "        \"\"\"\n",
    "        :type s: str\n",
    "        :rtype: str\n",
    "        \"\"\"\n",
    "        words = s.split()\n",
    "        words.reverse()\n",
    "        return ' '.join(words)"
   ]
  }
 ],
 "metadata": {
  "language_info": {
   "name": "python"
  }
 },
 "nbformat": 4,
 "nbformat_minor": 2
}
